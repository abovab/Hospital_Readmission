{
 "cells": [
  {
   "cell_type": "markdown",
   "id": "corporate-nutrition",
   "metadata": {},
   "source": [
    "# Data Prep"
   ]
  },
  {
   "cell_type": "code",
   "execution_count": 2,
   "id": "processed-correlation",
   "metadata": {},
   "outputs": [],
   "source": [
    "import pandas as pd\n",
    "import sklearn.metrics as m\n",
    "from imblearn.over_sampling import SMOTE\n",
    "from sklearn.compose import ColumnTransformer\n",
    "from sklearn.preprocessing import StandardScaler\n",
    "from sklearn.model_selection import train_test_split"
   ]
  },
  {
   "cell_type": "markdown",
   "id": "delayed-dinner",
   "metadata": {},
   "source": [
    "## Data"
   ]
  },
  {
   "cell_type": "code",
   "execution_count": 3,
   "id": "modular-hundred",
   "metadata": {},
   "outputs": [
    {
     "data": {
      "text/plain": [
       "[0.8877685402068903, 0.1122314597931097]"
      ]
     },
     "execution_count": 3,
     "metadata": {},
     "output_type": "execute_result"
    }
   ],
   "source": [
    "X = pd.read_csv('X.csv').drop('Unnamed: 0',axis=1)\n",
    "y = pd.read_csv('y.csv').drop('Unnamed: 0',axis=1)\n",
    "y.columns = ['readmitted']\n",
    "y = y.readmitted.map({'<30':'readmitted','>30':'not readmitted','NO':'not readmitted'})\n",
    "\n",
    "numeric = X.columns[:13]\n",
    "categorical = X.columns[13:]\n",
    "\n",
    "y = y.astype(\"category\")\n",
    "X[categorical] = X[categorical].apply(pd.Categorical)\n",
    "\n",
    "target_counts = y.value_counts()\n",
    "priors = [t/len(y) for t in target_counts]\n",
    "priors"
   ]
  },
  {
   "cell_type": "markdown",
   "id": "addressed-progress",
   "metadata": {},
   "source": [
    "## Categorical dummies & train/validate/test split"
   ]
  },
  {
   "cell_type": "code",
   "execution_count": 4,
   "id": "pediatric-threshold",
   "metadata": {},
   "outputs": [],
   "source": [
    "X = pd.get_dummies(X,drop_first=True)\n",
    "X_train,X_test,y_train,y_test = train_test_split(X,y,test_size=0.1,random_state=1984)\n",
    "X_train,X_validate,y_train,y_validate = train_test_split(X_train,y_train,test_size=(1/9),random_state=1984)"
   ]
  },
  {
   "cell_type": "markdown",
   "id": "european-pocket",
   "metadata": {},
   "source": [
    "## Scale numeric"
   ]
  },
  {
   "cell_type": "code",
   "execution_count": 5,
   "id": "grateful-witness",
   "metadata": {},
   "outputs": [],
   "source": [
    "c_scaler = ColumnTransformer([('c_scaler',StandardScaler(),numeric)], \n",
    "                               remainder='passthrough')\n",
    "X_train    = pd.DataFrame(c_scaler.fit_transform(X_train),   columns=X.columns)\n",
    "X_validate = pd.DataFrame(c_scaler.fit_transform(X_validate),columns=X.columns)\n",
    "X_test     = pd.DataFrame(c_scaler.fit_transform(X_test),    columns=X.columns)"
   ]
  },
  {
   "cell_type": "markdown",
   "id": "coral-shadow",
   "metadata": {},
   "source": [
    "## SMOTE"
   ]
  },
  {
   "cell_type": "code",
   "execution_count": 6,
   "id": "anticipated-lucas",
   "metadata": {},
   "outputs": [],
   "source": [
    "oversample = SMOTE(random_state=1984)\n",
    "X_train,y_train = oversample.fit_resample(X_train,y_train)\n",
    "X_train = pd.DataFrame(X_train, columns=X.columns)"
   ]
  },
  {
   "cell_type": "markdown",
   "id": "corresponding-subscriber",
   "metadata": {},
   "source": [
    "## Save"
   ]
  },
  {
   "cell_type": "code",
   "execution_count": null,
   "id": "protected-lunch",
   "metadata": {},
   "outputs": [],
   "source": [
    "X_train.to_csv('X_train.csv')\n",
    "X_validate.to_csv('X_validate.csv')\n",
    "X_test.to_csv('X_test.csv')\n",
    "y_train.to_csv('y_train.csv')\n",
    "y_validate.to_csv('y_validate.csv')\n",
    "y_test.to_csv('y_test.csv')"
   ]
  },
  {
   "cell_type": "code",
   "execution_count": null,
   "id": "shared-sussex",
   "metadata": {},
   "outputs": [],
   "source": []
  }
 ],
 "metadata": {
  "kernelspec": {
   "display_name": "Python 3",
   "language": "python",
   "name": "python3"
  },
  "language_info": {
   "codemirror_mode": {
    "name": "ipython",
    "version": 3
   },
   "file_extension": ".py",
   "mimetype": "text/x-python",
   "name": "python",
   "nbconvert_exporter": "python",
   "pygments_lexer": "ipython3",
   "version": "3.7.1"
  }
 },
 "nbformat": 4,
 "nbformat_minor": 5
}
