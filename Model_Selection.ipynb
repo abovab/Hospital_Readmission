{
 "cells": [
  {
   "cell_type": "markdown",
   "id": "combined-technology",
   "metadata": {},
   "source": [
    "# Model Selection"
   ]
  },
  {
   "cell_type": "code",
   "execution_count": 32,
   "id": "processed-correlation",
   "metadata": {},
   "outputs": [],
   "source": [
    "import pandas as pd\n",
    "import seaborn as sns\n",
    "import sklearn.metrics as m\n",
    "from matplotlib import pyplot as plt\n",
    "from imblearn.over_sampling import SMOTE\n",
    "from sklearn.compose import ColumnTransformer\n",
    "from sklearn.preprocessing import StandardScaler\n",
    "from sklearn.model_selection import train_test_split"
   ]
  },
  {
   "cell_type": "code",
   "execution_count": 16,
   "id": "human-respondent",
   "metadata": {},
   "outputs": [],
   "source": [
    "def print_results(y_hat,y_pred,confusion=True):  \n",
    "    if confusion:\n",
    "        confusion = pd.crosstab(y_hat,y_pred)\n",
    "        confusion.index.name,confusion.columns.name  = 'Observed','Predicted'\n",
    "        print(confusion)\n",
    "    accuracy  = m.accuracy_score(y_hat,y_pred)\n",
    "    precision = m.recall_score(y_hat,y_pred,pos_label='readmitted')\n",
    "    recall    = m.precision_score(y_hat,y_pred,pos_label='readmitted')\n",
    "    print(f'\\nAccuracy:\\n\\t{accuracy}\\nPrecision:\\n\\t{precision}\\nRecall:\\n\\t{recall}\\n')\n",
    "    return accuracy,precision,recall"
   ]
  },
  {
   "cell_type": "markdown",
   "id": "guilty-durham",
   "metadata": {},
   "source": [
    "## Data"
   ]
  },
  {
   "cell_type": "code",
   "execution_count": 3,
   "id": "modular-hundred",
   "metadata": {},
   "outputs": [
    {
     "data": {
      "text/plain": [
       "[0.8877685402068903, 0.1122314597931097]"
      ]
     },
     "execution_count": 3,
     "metadata": {},
     "output_type": "execute_result"
    }
   ],
   "source": [
    "X_train    = pd.read_csv('X_train.csv').drop('Unnamed: 0',axis=1)\n",
    "y_train    = pd.read_csv('y_train.csv').readmitted\n",
    "X_validate = pd.read_csv('X_validate.csv').drop('Unnamed: 0',axis=1)\n",
    "y_validate = pd.read_csv('y_validate.csv').readmitted\n",
    "X_test     = pd.read_csv('X_test.csv').drop('Unnamed: 0',axis=1)\n",
    "y_test     = pd.read_csv('y_test.csv').readmitted\n",
    "\n",
    "target_counts = y_train.value_counts()\n",
    "priors = [t/len(y) for t in target_counts]\n",
    "priors"
   ]
  },
  {
   "cell_type": "markdown",
   "id": "collective-concord",
   "metadata": {},
   "source": [
    "## Random Forest"
   ]
  },
  {
   "cell_type": "code",
   "execution_count": 8,
   "id": "peaceful-registrar",
   "metadata": {},
   "outputs": [
    {
     "name": "stdout",
     "output_type": "stream",
     "text": [
      "Training:\n",
      "Predicted       not readmitted  readmitted\n",
      "Observed                                  \n",
      "not readmitted           70624           0\n",
      "readmitted                   0       70624\n",
      "Accuracy:\n",
      "\t 1.0\n",
      "Recall:\n",
      "\t 1.0\n",
      "Precision:\n",
      "\t 1.0\n",
      "\n",
      "Validate:\n",
      "Predicted       not readmitted  readmitted\n",
      "Observed                                  \n",
      "not readmitted            7992         823\n",
      "readmitted                 947         186\n",
      "Accuracy:\n",
      "\t 0.8220747889022919\n",
      "Recall:\n",
      "\t 0.1641659311562224\n",
      "Precision:\n",
      "\t 0.18434093161546086\n"
     ]
    }
   ],
   "source": [
    "from sklearn.ensemble import RandomForestClassifier\n",
    "\n",
    "forest             = RandomForestClassifier(random_state=1984)\n",
    "forest_fitted      = forest.fit(X_train,y_train)\n",
    "y_train_predict    = forest_fitted.predict(X_train)\n",
    "y_validate_predict = forest_fitted.predict(X_validate)\n",
    "\n",
    "print('Training:')\n",
    "print_results(y_train,y_train_predict)\n",
    "print('\\nValidate:')\n",
    "print_results(y_validate,y_validate_predict)"
   ]
  },
  {
   "cell_type": "markdown",
   "id": "reverse-swing",
   "metadata": {},
   "source": [
    "## Naive Bayes"
   ]
  },
  {
   "cell_type": "code",
   "execution_count": 10,
   "id": "south-summit",
   "metadata": {},
   "outputs": [
    {
     "name": "stdout",
     "output_type": "stream",
     "text": [
      "Training:\n",
      "Predicted       not readmitted  readmitted\n",
      "Observed                                  \n",
      "not readmitted            8919       61705\n",
      "readmitted                2423       68201\n",
      "Accuracy:\n",
      "\t 0.5459900317172632\n",
      "Recall:\n",
      "\t 0.9656915496148618\n",
      "Precision:\n",
      "\t 0.5250026942558466\n",
      "\n",
      "Validate:\n",
      "Predicted       not readmitted  readmitted\n",
      "Observed                                  \n",
      "not readmitted            1079        7736\n",
      "readmitted                  99        1034\n",
      "Accuracy:\n",
      "\t 0.21240450341777242\n",
      "Recall:\n",
      "\t 0.912621359223301\n",
      "Precision:\n",
      "\t 0.11790193842645381\n"
     ]
    }
   ],
   "source": [
    "from sklearn.naive_bayes import GaussianNB\n",
    "\n",
    "g_bayes            = GaussianNB(priors=priors)\n",
    "g_bayes_fitted     = g_bayes.fit(X_train,y_train)\n",
    "y_train_predict    = g_bayes_fitted.predict(X_train)\n",
    "y_validate_predict = g_bayes_fitted.predict(X_validate)\n",
    "\n",
    "print('Training:')\n",
    "print_results(y_train,y_train_predict)\n",
    "print('\\nValidate:')\n",
    "print_results(y_validate,y_validate_predict)"
   ]
  },
  {
   "cell_type": "markdown",
   "id": "driven-production",
   "metadata": {},
   "source": [
    "## Logistic Regression"
   ]
  },
  {
   "cell_type": "code",
   "execution_count": 17,
   "id": "executed-indonesia",
   "metadata": {},
   "outputs": [
    {
     "name": "stderr",
     "output_type": "stream",
     "text": [
      "/Users/Bova/anaconda3/lib/python3.7/site-packages/sklearn/linear_model/_logistic.py:765: ConvergenceWarning: lbfgs failed to converge (status=1):\n",
      "STOP: TOTAL NO. of ITERATIONS REACHED LIMIT.\n",
      "\n",
      "Increase the number of iterations (max_iter) or scale the data as shown in:\n",
      "    https://scikit-learn.org/stable/modules/preprocessing.html\n",
      "Please also refer to the documentation for alternative solver options:\n",
      "    https://scikit-learn.org/stable/modules/linear_model.html#logistic-regression\n",
      "  extra_warning_msg=_LOGISTIC_SOLVER_CONVERGENCE_MSG)\n"
     ]
    },
    {
     "name": "stdout",
     "output_type": "stream",
     "text": [
      "Training:\n",
      "Predicted       not readmitted  readmitted\n",
      "Observed                                  \n",
      "not readmitted           46311       24313\n",
      "readmitted               25367       45257\n",
      "\n",
      "Accuracy:\n",
      "\t0.6482782057091074\n",
      "Precision:\n",
      "\t0.6408161531490711\n",
      "Recall:\n",
      "\t0.6505246514302142\n",
      "\n",
      "\n",
      "Validate:\n",
      "Predicted       not readmitted  readmitted\n",
      "Observed                                  \n",
      "not readmitted            5713        3102\n",
      "readmitted                 523         610\n",
      "\n",
      "Accuracy:\n",
      "\t0.6356051467631685\n",
      "Precision:\n",
      "\t0.5383936451897617\n",
      "Recall:\n",
      "\t0.16433189655172414\n",
      "\n"
     ]
    },
    {
     "data": {
      "text/plain": [
       "(0.6356051467631685, 0.5383936451897617, 0.16433189655172414)"
      ]
     },
     "execution_count": 17,
     "metadata": {},
     "output_type": "execute_result"
    }
   ],
   "source": [
    "from sklearn.linear_model import LogisticRegression\n",
    "\n",
    "logit              = LogisticRegression()\n",
    "logit_fitted       = logit.fit(X_train,y_train)\n",
    "y_train_predict    = logit_fitted.predict(X_train)\n",
    "y_validate_predict = logit_fitted.predict(X_validate)\n",
    "\n",
    "print('Training:')\n",
    "print_results(y_train,y_train_predict)\n",
    "print('\\nValidate:')\n",
    "print_results(y_validate,y_validate_predict)"
   ]
  },
  {
   "cell_type": "markdown",
   "id": "spoken-payday",
   "metadata": {},
   "source": [
    "## KNN"
   ]
  },
  {
   "cell_type": "code",
   "execution_count": 12,
   "id": "numerous-volleyball",
   "metadata": {},
   "outputs": [
    {
     "name": "stdout",
     "output_type": "stream",
     "text": [
      "Training:\n",
      "Predicted       not readmitted  readmitted\n",
      "Observed                                  \n",
      "not readmitted           40059       30565\n",
      "readmitted                  10       70614\n",
      "Accuracy:\n",
      "\t 0.7835367580425917\n",
      "Recall:\n",
      "\t 0.9998584050747621\n",
      "Precision:\n",
      "\t 0.6979116219768925\n",
      "\n",
      "Validate:\n",
      "Predicted       not readmitted  readmitted\n",
      "Observed                                  \n",
      "not readmitted            3782        5033\n",
      "readmitted                 365         768\n",
      "Accuracy:\n",
      "\t 0.4573783675110575\n",
      "Recall:\n",
      "\t 0.677846425419241\n",
      "Precision:\n",
      "\t 0.1323909670746423\n"
     ]
    }
   ],
   "source": [
    "from sklearn.neighbors import KNeighborsClassifier\n",
    "\n",
    "knn                = KNeighborsClassifier()\n",
    "knn_fitted         = knn.fit(X_train,y_train)\n",
    "y_train_predict    = knn_fitted.predict(X_train)\n",
    "y_validate_predict = knn_fitted.predict(X_validate)\n",
    "\n",
    "print('Training:')\n",
    "print_results(y_train,y_train_predict)\n",
    "print('\\nValidate:')\n",
    "print_results(y_validate,y_validate_predict)"
   ]
  },
  {
   "cell_type": "markdown",
   "id": "connected-wheel",
   "metadata": {},
   "source": [
    "## Neural Net"
   ]
  },
  {
   "cell_type": "code",
   "execution_count": 14,
   "id": "described-flour",
   "metadata": {},
   "outputs": [
    {
     "name": "stdout",
     "output_type": "stream",
     "text": [
      "Iteration 1, loss = 0.56251795\n",
      "Iteration 2, loss = 0.40343615\n",
      "Iteration 3, loss = 0.32525350\n",
      "Iteration 4, loss = 0.28475227\n",
      "Iteration 5, loss = 0.26094237\n",
      "Iteration 6, loss = 0.24081850\n",
      "Iteration 7, loss = 0.22635534\n",
      "Iteration 8, loss = 0.21616960\n",
      "Iteration 9, loss = 0.20554484\n",
      "Iteration 10, loss = 0.19438236\n",
      "Iteration 11, loss = 0.18871103\n",
      "Iteration 12, loss = 0.18083432\n",
      "Iteration 13, loss = 0.17489126\n",
      "Iteration 14, loss = 0.16682328\n",
      "Iteration 15, loss = 0.16235610\n",
      "Iteration 16, loss = 0.15970699\n",
      "Iteration 17, loss = 0.15255162\n",
      "Iteration 18, loss = 0.14942780\n",
      "Iteration 19, loss = 0.14421524\n",
      "Iteration 20, loss = 0.14133495\n",
      "Iteration 21, loss = 0.13721092\n",
      "Iteration 22, loss = 0.13464266\n",
      "Iteration 23, loss = 0.12958288\n",
      "Iteration 24, loss = 0.12664661\n",
      "Iteration 25, loss = 0.12401114\n",
      "Iteration 26, loss = 0.12094586\n",
      "Iteration 27, loss = 0.11641017\n",
      "Iteration 28, loss = 0.11468142\n",
      "Iteration 29, loss = 0.11367482\n",
      "Iteration 30, loss = 0.10981891\n",
      "Iteration 31, loss = 0.10918029\n",
      "Iteration 32, loss = 0.10614431\n",
      "Iteration 33, loss = 0.10295949\n",
      "Iteration 34, loss = 0.10053650\n",
      "Iteration 35, loss = 0.09970053\n",
      "Iteration 36, loss = 0.09808453\n",
      "Iteration 37, loss = 0.09524586\n",
      "Iteration 38, loss = 0.09336972\n",
      "Iteration 39, loss = 0.09045078\n",
      "Iteration 40, loss = 0.09108723\n",
      "Iteration 41, loss = 0.08707448\n",
      "Iteration 42, loss = 0.08514434\n",
      "Iteration 43, loss = 0.08710524\n",
      "Iteration 44, loss = 0.08254223\n",
      "Iteration 45, loss = 0.07930311\n",
      "Iteration 46, loss = 0.08001649\n",
      "Iteration 47, loss = 0.07888986\n",
      "Iteration 48, loss = 0.07800562\n",
      "Iteration 49, loss = 0.07589794\n",
      "Iteration 50, loss = 0.07437867\n",
      "Iteration 51, loss = 0.07250340\n",
      "Iteration 52, loss = 0.07265231\n",
      "Iteration 53, loss = 0.07365425\n",
      "Iteration 54, loss = 0.06990415\n",
      "Iteration 55, loss = 0.06688037\n",
      "Iteration 56, loss = 0.06678120\n",
      "Iteration 57, loss = 0.06860645\n",
      "Iteration 58, loss = 0.06544727\n",
      "Iteration 59, loss = 0.06353869\n",
      "Iteration 60, loss = 0.06390850\n",
      "Iteration 61, loss = 0.06254845\n",
      "Iteration 62, loss = 0.06131769\n",
      "Iteration 63, loss = 0.05916803\n",
      "Iteration 64, loss = 0.06014654\n",
      "Iteration 65, loss = 0.05859556\n",
      "Iteration 66, loss = 0.05735252\n",
      "Iteration 67, loss = 0.05533395\n",
      "Iteration 68, loss = 0.05453263\n",
      "Iteration 69, loss = 0.05705675\n",
      "Iteration 70, loss = 0.05324025\n",
      "Iteration 71, loss = 0.05264721\n",
      "Iteration 72, loss = 0.05292652\n",
      "Iteration 73, loss = 0.05219080\n",
      "Iteration 74, loss = 0.04996882\n",
      "Iteration 75, loss = 0.05048620\n",
      "Iteration 76, loss = 0.05096695\n",
      "Iteration 77, loss = 0.04771516\n",
      "Iteration 78, loss = 0.04859079\n",
      "Iteration 79, loss = 0.04701983\n",
      "Iteration 80, loss = 0.04687533\n",
      "Iteration 81, loss = 0.04421222\n",
      "Iteration 82, loss = 0.04638540\n",
      "Iteration 83, loss = 0.04514197\n",
      "Iteration 84, loss = 0.04577042\n",
      "Iteration 85, loss = 0.04412055\n",
      "Iteration 86, loss = 0.04202539\n",
      "Iteration 87, loss = 0.04148463\n",
      "Iteration 88, loss = 0.04258536\n",
      "Iteration 89, loss = 0.04025117\n",
      "Iteration 90, loss = 0.03988633\n",
      "Iteration 91, loss = 0.04023017\n",
      "Iteration 92, loss = 0.04119814\n",
      "Iteration 93, loss = 0.04118560\n",
      "Iteration 94, loss = 0.03535420\n",
      "Iteration 95, loss = 0.03853719\n",
      "Iteration 96, loss = 0.03751849\n",
      "Iteration 97, loss = 0.03861635\n",
      "Iteration 98, loss = 0.03641448\n",
      "Iteration 99, loss = 0.03922951\n",
      "Iteration 100, loss = 0.03365633\n",
      "Iteration 101, loss = 0.03402168\n",
      "Iteration 102, loss = 0.03381365\n",
      "Iteration 103, loss = 0.03602909\n",
      "Iteration 104, loss = 0.03453180\n",
      "Iteration 105, loss = 0.03646421\n",
      "Iteration 106, loss = 0.03203261\n",
      "Iteration 107, loss = 0.03236781\n",
      "Iteration 108, loss = 0.03289288\n",
      "Iteration 109, loss = 0.03173078\n",
      "Iteration 110, loss = 0.03192416\n",
      "Iteration 111, loss = 0.03181174\n",
      "Iteration 112, loss = 0.03156455\n",
      "Iteration 113, loss = 0.03371234\n",
      "Iteration 114, loss = 0.02961449\n",
      "Iteration 115, loss = 0.02956606\n",
      "Iteration 116, loss = 0.02984429\n",
      "Iteration 117, loss = 0.02958858\n",
      "Iteration 118, loss = 0.03360468\n",
      "Iteration 119, loss = 0.03085590\n",
      "Iteration 120, loss = 0.02481776\n",
      "Iteration 121, loss = 0.02954716\n",
      "Iteration 122, loss = 0.02846720\n",
      "Iteration 123, loss = 0.02965174\n",
      "Iteration 124, loss = 0.02694418\n",
      "Iteration 125, loss = 0.02674191\n",
      "Iteration 126, loss = 0.02799091\n",
      "Iteration 127, loss = 0.02884214\n",
      "Iteration 128, loss = 0.03163099\n",
      "Iteration 129, loss = 0.02368414\n",
      "Iteration 130, loss = 0.02649152\n",
      "Iteration 131, loss = 0.02743313\n",
      "Iteration 132, loss = 0.02466712\n",
      "Iteration 133, loss = 0.02659926\n",
      "Iteration 134, loss = 0.02763010\n",
      "Iteration 135, loss = 0.02450578\n",
      "Iteration 136, loss = 0.02610229\n",
      "Iteration 137, loss = 0.02442504\n",
      "Iteration 138, loss = 0.02740599\n",
      "Iteration 139, loss = 0.02547035\n",
      "Iteration 140, loss = 0.02518937\n",
      "Training loss did not improve more than tol=0.000100 for 10 consecutive epochs. Stopping.\n",
      "Training:\n",
      "Predicted       not readmitted  readmitted\n",
      "Observed                                  \n",
      "not readmitted           70560          64\n",
      "readmitted                1697       68927\n",
      "Accuracy:\n",
      "\t 0.9875325668328047\n",
      "Recall:\n",
      "\t 0.9759713411871318\n",
      "Precision:\n",
      "\t 0.9990723427693468\n",
      "\n",
      "Validate:\n",
      "Predicted       not readmitted  readmitted\n",
      "Observed                                  \n",
      "not readmitted            8069         746\n",
      "readmitted                 972         161\n",
      "Accuracy:\n",
      "\t 0.8273019702452754\n",
      "Recall:\n",
      "\t 0.14210061782877317\n",
      "Precision:\n",
      "\t 0.17750826901874311\n"
     ]
    }
   ],
   "source": [
    "from sklearn.neural_network import MLPClassifier\n",
    "\n",
    "net                = MLPClassifier(hidden_layer_sizes=(100,100),\n",
    "                                   verbose=True)\n",
    "net_fitted         = net.fit(X_train,y_train)\n",
    "y_train_predict    = net_fitted.predict(X_train)\n",
    "y_validate_predict = net_fitted.predict(X_validate)\n",
    "\n",
    "print('Training:')\n",
    "print_results(y_train,y_train_predict)\n",
    "print('\\nValidate:')\n",
    "print_results(y_validate,y_validate_predict)"
   ]
  },
  {
   "cell_type": "markdown",
   "id": "opponent-network",
   "metadata": {},
   "source": [
    "## ROC Curves"
   ]
  },
  {
   "cell_type": "code",
   "execution_count": 27,
   "id": "collect-trinidad",
   "metadata": {},
   "outputs": [
    {
     "data": {
      "text/plain": [
       "Text(0.5, 1.0, 'ROC Curve')"
      ]
     },
     "execution_count": 27,
     "metadata": {},
     "output_type": "execute_result"
    },
    {
     "data": {
      "image/png": "[encoded data removed]",
      "text/plain": [
       "<Figure size 864x576 with 1 Axes>"
      ]
     },
     "metadata": {},
     "output_type": "display_data"
    }
   ],
   "source": [
    "plt.style.use('dark_background')\n",
    "\n",
    "forest_auc = m.roc_auc_score(y_validate, forest_fitted.predict_proba(X_validate)[:,1])\n",
    "knn_auc    = m.roc_auc_score(y_validate, knn_fitted.predict_proba(X_validate)[:,1])\n",
    "log_auc    = m.roc_auc_score(y_validate, logit_fitted.predict_proba(X_validate)[:,1])\n",
    "bayes_auc  = m.roc_auc_score(y_validate, g_bayes_fitted.predict_proba(X_validate)[:,1])\n",
    "net_auc    = m.roc_auc_score(y_validate, net_fitted.predict_proba(X_validate)[:,1])\n",
    "\n",
    "\n",
    "fig,ax = plt.subplots(figsize =(12,8))\n",
    "m.plot_roc_curve(forest_fitted, \n",
    "                 X_validate, \n",
    "                 y_validate,\n",
    "                 label=f'Random Forest: AUC: {round(forest_auc,2)}',\n",
    "                 lw=4,\n",
    "                 color='cornflowerblue',\n",
    "                 ax=ax)\n",
    "\n",
    "m.plot_roc_curve(knn_fitted, \n",
    "                 X_validate, \n",
    "                 y_validate,\n",
    "                 label=f'KNN:, AUC: {round(knn_auc,2)}',\n",
    "                 lw=4,\n",
    "                 color='red',\n",
    "                 ax=ax)\n",
    "\n",
    "m.plot_roc_curve(logit_fitted, \n",
    "                 X_validate, \n",
    "                 y_validate,\n",
    "                 label=f'Logistic Regression: AUC: {round(log_auc,2)}',\n",
    "                 lw=4,\n",
    "                 color='orchid',\n",
    "                 ax=ax)\n",
    "\n",
    "m.plot_roc_curve(g_bayes_fitted, \n",
    "                 X_validate, \n",
    "                 y_validate,\n",
    "                 label=f'Naive Bayes: AUC: {round(bayes_auc,2)}',\n",
    "                 lw=4,\n",
    "                 color='aquamarine',\n",
    "                 ax=ax)\n",
    "\n",
    "m.plot_roc_curve(net_fitted, \n",
    "                 X_validate, \n",
    "                 y_validate,\n",
    "                 label=f'Neural Net: AUC: {round(net_auc,2)}',\n",
    "                 lw=4,\n",
    "                 color='gold',\n",
    "                 ax=ax)\n",
    "\n",
    "plt.plot([0, 1], \n",
    "         [0, 1], \n",
    "         color='white', \n",
    "         lw=2, \n",
    "         linestyle='--')\n",
    "\n",
    "plt.legend(frameon=False,fontsize='x-large')\n",
    "plt.title('ROC Curve')"
   ]
  },
  {
   "cell_type": "code",
   "execution_count": 42,
   "id": "relative-jacksonville",
   "metadata": {},
   "outputs": [],
   "source": [
    "f_map = {'number_inpatient'          :'Inpatient Visits Prior',\n",
    "         'weight'                    :'Weight',\n",
    "         'gender_male'               :'Male',\n",
    "         'age'                       :'Age',\n",
    "         'race_Caucasian'            :'Caucasian',\n",
    "         'time_in_hospital'          :'Length of Stay',\n",
    "         'diag_2_heart_dx_other'     :'2\\N{DEGREE SIGN} Dx: Heart Disease (other)',\n",
    "         'admission_source_id_7'     :'Trauma Admission',\n",
    "         'num_medications'           :'Number of Distinct Meds',\n",
    "         'lab_procedures_per_day'    :'Labs per Day',\n",
    "         'medications_per_day'       :'Meds per Day',\n",
    "         'num_lab_procedure'         :'Number of Labs',\n",
    "         'number_diagnoses'          :'Number of Diagnoses',\n",
    "         'num_procedure'             :'Number of Procedures',\n",
    "         'procedures_per_day'        :'Procedure per Day',\n",
    "         'discharge_disposition_id_3':'D/C to SNF',\n",
    "         'diag_3_diabetes'           :'3\\N{DEGREE SIGN} Dx: DM',\n",
    "         'medical_specialty_medicine':'Managed by Medicine',\n",
    "         'payer_code_none'           :'No Payer Code',\n",
    "         'discharge_disposition_id_6':'D/C Disposition Missing'}"
   ]
  },
  {
   "cell_type": "code",
   "execution_count": 51,
   "id": "hawaiian-submission",
   "metadata": {},
   "outputs": [
    {
     "data": {
      "text/plain": [
       "[Text(0.5, 0, 'Importance'),\n",
       " Text(0, 0.5, ''),\n",
       " Text(0.5, 1.0, 'Random Forest Feature Importance')]"
      ]
     },
     "execution_count": 51,
     "metadata": {},
     "output_type": "execute_result"
    },
    {
     "data": {
      "image/png": "[encoded data removed]",
      "text/plain": [
       "<Figure size 432x576 with 1 Axes>"
      ]
     },
     "metadata": {},
     "output_type": "display_data"
    }
   ],
   "source": [
    "importance = pd.DataFrame({'feature':X_train.columns,\n",
    "                           'importance':forest_fitted.feature_importances_}).\\\n",
    "                          sort_values(by='importance').tail(100).\\\n",
    "                          sort_values(by='importance',ascending=False) \n",
    "# (Trying sort descending with initial sort_values has long runtime)\n",
    "\n",
    "fig, ax = plt.subplots(figsize=(6,8))\n",
    "\n",
    "p = sns.barplot(y=importance.feature.map(f_map),\n",
    "                x=importance.importance,\n",
    "                hue=importance.importance,\n",
    "                palette='cool',\n",
    "                dodge=False)\n",
    "plt.legend([],[], frameon=False)\n",
    "ax.set(xlabel='Importance',\n",
    "       ylabel='',\n",
    "       title='Random Forest Feature Importance')"
   ]
  },
  {
   "cell_type": "code",
   "execution_count": 50,
   "id": "comparable-lafayette",
   "metadata": {},
   "outputs": [],
   "source": [
    "importance = pd.DataFrame({'feature':X_train.columns,\n",
    "                           'importance':forest_fitted.feature_importances_}).\\\n",
    "                          sort_values(by='importance').feature.iloc[::-1]\n",
    "importance.to_csv('importance.csv')"
   ]
  },
  {
   "cell_type": "code",
   "execution_count": 52,
   "id": "powerful-negotiation",
   "metadata": {},
   "outputs": [
    {
     "data": {
      "text/html": [
       "<div>\n",
       "<style scoped>\n",
       "    .dataframe tbody tr th:only-of-type {\n",
       "        vertical-align: middle;\n",
       "    }\n",
       "\n",
       "    .dataframe tbody tr th {\n",
       "        vertical-align: top;\n",
       "    }\n",
       "\n",
       "    .dataframe thead th {\n",
       "        text-align: right;\n",
       "    }\n",
       "</style>\n",
       "<table border=\"1\" class=\"dataframe\">\n",
       "  <thead>\n",
       "    <tr style=\"text-align: right;\">\n",
       "      <th></th>\n",
       "      <th>feature</th>\n",
       "      <th>importance</th>\n",
       "    </tr>\n",
       "  </thead>\n",
       "  <tbody>\n",
       "    <tr>\n",
       "      <th>8</th>\n",
       "      <td>number_inpatient</td>\n",
       "      <td>0.071898</td>\n",
       "    </tr>\n",
       "    <tr>\n",
       "      <th>1</th>\n",
       "      <td>weight</td>\n",
       "      <td>0.045387</td>\n",
       "    </tr>\n",
       "    <tr>\n",
       "      <th>17</th>\n",
       "      <td>gender_Male</td>\n",
       "      <td>0.036269</td>\n",
       "    </tr>\n",
       "    <tr>\n",
       "      <th>0</th>\n",
       "      <td>age</td>\n",
       "      <td>0.031721</td>\n",
       "    </tr>\n",
       "    <tr>\n",
       "      <th>14</th>\n",
       "      <td>race_Caucasian</td>\n",
       "      <td>0.027169</td>\n",
       "    </tr>\n",
       "    <tr>\n",
       "      <th>...</th>\n",
       "      <td>...</td>\n",
       "      <td>...</td>\n",
       "    </tr>\n",
       "    <tr>\n",
       "      <th>87</th>\n",
       "      <td>medical_specialty_neurology</td>\n",
       "      <td>0.001711</td>\n",
       "    </tr>\n",
       "    <tr>\n",
       "      <th>126</th>\n",
       "      <td>diag_1_neph_dx</td>\n",
       "      <td>0.001709</td>\n",
       "    </tr>\n",
       "    <tr>\n",
       "      <th>160</th>\n",
       "      <td>diag_2_heme_anemia</td>\n",
       "      <td>0.001695</td>\n",
       "    </tr>\n",
       "    <tr>\n",
       "      <th>297</th>\n",
       "      <td>renal_1</td>\n",
       "      <td>0.001675</td>\n",
       "    </tr>\n",
       "    <tr>\n",
       "      <th>110</th>\n",
       "      <td>diag_1_gu_other</td>\n",
       "      <td>0.001650</td>\n",
       "    </tr>\n",
       "  </tbody>\n",
       "</table>\n",
       "<p>100 rows × 2 columns</p>\n",
       "</div>"
      ],
      "text/plain": [
       "                         feature  importance\n",
       "8               number_inpatient    0.071898\n",
       "1                         weight    0.045387\n",
       "17                   gender_Male    0.036269\n",
       "0                            age    0.031721\n",
       "14                race_Caucasian    0.027169\n",
       "..                           ...         ...\n",
       "87   medical_specialty_neurology    0.001711\n",
       "126               diag_1_neph_dx    0.001709\n",
       "160           diag_2_heme_anemia    0.001695\n",
       "297                      renal_1    0.001675\n",
       "110              diag_1_gu_other    0.001650\n",
       "\n",
       "[100 rows x 2 columns]"
      ]
     },
     "execution_count": 52,
     "metadata": {},
     "output_type": "execute_result"
    }
   ],
   "source": [
    "importance"
   ]
  },
  {
   "cell_type": "code",
   "execution_count": null,
   "id": "descending-switzerland",
   "metadata": {},
   "outputs": [],
   "source": []
  }
 ],
 "metadata": {
  "kernelspec": {
   "display_name": "Python 3",
   "language": "python",
   "name": "python3"
  },
  "language_info": {
   "codemirror_mode": {
    "name": "ipython",
    "version": 3
   },
   "file_extension": ".py",
   "mimetype": "text/x-python",
   "name": "python",
   "nbconvert_exporter": "python",
   "pygments_lexer": "ipython3",
   "version": "3.7.1"
  }
 },
 "nbformat": 4,
 "nbformat_minor": 5
}
