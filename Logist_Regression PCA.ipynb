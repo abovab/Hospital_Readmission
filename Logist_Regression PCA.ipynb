{
 "cells": [
  {
   "cell_type": "markdown",
   "id": "suburban-kenya",
   "metadata": {},
   "source": [
    "# Logistic Regression PCA"
   ]
  },
  {
   "cell_type": "code",
   "execution_count": 114,
   "id": "processed-correlation",
   "metadata": {},
   "outputs": [],
   "source": [
    "import numpy as np\n",
    "import pandas as pd\n",
    "import sklearn.metrics as m\n",
    "from matplotlib import pyplot as plt\n",
    "from sklearn.decomposition import PCA\n",
    "from sklearn.model_selection import GridSearchCV\n",
    "from sklearn.linear_model import LogisticRegression\n",
    "plt.style.use('dark_background')"
   ]
  },
  {
   "cell_type": "code",
   "execution_count": 92,
   "id": "human-respondent",
   "metadata": {},
   "outputs": [],
   "source": [
    "def print_results(y_hat,y_pred,confusion=True):  \n",
    "    if confusion:\n",
    "        confusion = pd.crosstab(y_hat,y_pred)\n",
    "        confusion.index.name,confusion.columns.name  = 'Observed','Predicted'\n",
    "        print(confusion)\n",
    "    accuracy  = m.accuracy_score(y_hat,y_pred)\n",
    "    precision = m.precision_score(y_hat,y_pred,pos_label='readmitted')\n",
    "    recall    = m.recall_score(y_hat,y_pred,pos_label='readmitted')\n",
    "    print(f'\\nAccuracy:\\n\\t{accuracy}\\nPrecision:\\n\\t{precision}\\nRecall:\\n\\t{recall}\\n')\n",
    "    return accuracy,precision,recall"
   ]
  },
  {
   "cell_type": "markdown",
   "id": "behind-establishment",
   "metadata": {},
   "source": [
    "## Data"
   ]
  },
  {
   "cell_type": "code",
   "execution_count": 86,
   "id": "modular-hundred",
   "metadata": {},
   "outputs": [],
   "source": [
    "X_train    = pd.read_csv('X_train.csv').drop('Unnamed: 0',axis=1)\n",
    "y_train    = pd.read_csv('y_train.csv').readmitted\n",
    "X_validate = pd.read_csv('X_validate.csv').drop('Unnamed: 0',axis=1)\n",
    "y_validate = pd.read_csv('y_validate.csv').readmitted\n",
    "X_test     = pd.read_csv('X_test.csv').drop('Unnamed: 0',axis=1)\n",
    "y_test     = pd.read_csv('y_test.csv').readmitted"
   ]
  },
  {
   "cell_type": "markdown",
   "id": "hawaiian-farmer",
   "metadata": {},
   "source": [
    "## PCA"
   ]
  },
  {
   "cell_type": "code",
   "execution_count": 127,
   "id": "czech-mechanics",
   "metadata": {},
   "outputs": [
    {
     "name": "stdout",
     "output_type": "stream",
     "text": [
      "Shape:\n",
      " (141248, 166)\n",
      "\n",
      "Explained Variance:\n",
      " [0.11665965 0.10260282 0.08935171 0.06223076 0.05724246 0.04775667\n",
      " 0.04635778 0.04398577 0.03994566 0.03106835 0.02264626 0.01622498\n",
      " 0.01497904 0.01206645 0.01143223 0.01083963 0.01043916 0.00995774\n",
      " 0.00936172 0.00844705 0.00764755 0.00733718 0.00714393 0.00701903\n",
      " 0.00648761 0.00614663 0.0059735  0.00539715 0.0052514  0.00471566\n",
      " 0.00462263 0.00456191 0.00453008 0.00431393 0.00416886 0.00394358\n",
      " 0.00384045 0.00368885 0.00356335 0.00354345 0.00331338 0.00325519\n",
      " 0.00308074 0.00305391 0.00299781 0.00275058 0.00268707 0.0024578\n",
      " 0.00239612 0.002329   0.00223387 0.00207581 0.00200479 0.00198496\n",
      " 0.00194692 0.00193679 0.00183855 0.00179606 0.00177711 0.00171658\n",
      " 0.00168647 0.00165769 0.00162541 0.001592   0.00155761 0.00152224\n",
      " 0.00150754 0.00149331 0.00143844 0.00136838 0.00131856 0.00131352\n",
      " 0.00130414 0.00125865 0.00122881 0.00120864 0.00116083 0.00113805\n",
      " 0.00111494 0.0010817  0.00106427 0.00104841 0.00101041 0.00096446\n",
      " 0.0009578  0.00093958 0.00093074 0.00091467 0.00088753 0.00087708\n",
      " 0.00084678 0.00083551 0.00082358 0.0008046  0.00079735 0.00078838\n",
      " 0.00076773 0.00076288 0.00075092 0.00074067 0.00073678 0.00071338\n",
      " 0.00070325 0.00069587 0.00068818 0.00067593 0.00066801 0.00065339\n",
      " 0.00063599 0.00062709 0.00061335 0.0006085  0.00059616 0.00059139\n",
      " 0.00057742 0.00056947 0.00056666 0.00056579 0.00055637 0.00055153\n",
      " 0.00054382 0.00052871 0.00052704 0.00051526 0.00051053 0.00050666\n",
      " 0.00050301 0.00048759 0.00048371 0.00047284 0.00046636 0.00046365\n",
      " 0.00044304 0.00042777 0.00042272 0.0004197  0.00041188 0.00040919\n",
      " 0.00040143 0.0003955  0.00038358 0.00037689 0.00037175 0.00036681\n",
      " 0.00035207 0.00034673 0.00033712 0.00033342 0.00033151 0.00031079\n",
      " 0.00030873 0.00030518 0.0002983  0.00029131 0.00028639 0.00028405\n",
      " 0.00028038 0.00027158 0.00026841 0.00026174 0.0002573  0.00025588\n",
      " 0.00025089 0.00025037 0.0002453  0.00024296]\n"
     ]
    },
    {
     "data": {
      "text/plain": [
       "Text(0.5, 1.0, 'Cumulative Variance of PCA Components')"
      ]
     },
     "execution_count": 127,
     "metadata": {},
     "output_type": "execute_result"
    },
    {
     "data": {
      "image/png": "[encoded data removed]",
      "text/plain": [
       "<Figure size 864x576 with 1 Axes>"
      ]
     },
     "metadata": {},
     "output_type": "display_data"
    }
   ],
   "source": [
    "pca = PCA(n_components=0.99)\n",
    "X_pca = pca.fit_transform(X_train)\n",
    "\n",
    "print('Shape:\\n',X_pca.shape)\n",
    "X_pca = pd.DataFrame(X_pca,columns=[f'Component_{i+1}' for i in range(X_pca.shape[1])])\n",
    "\n",
    "print('\\nExplained Variance:\\n',pca.explained_variance_ratio_)\n",
    "\n",
    "cumulative_explained_variance = np.cumsum(pca.explained_variance_ratio_)\n",
    "area = pd.DataFrame({'Cumulative Variance':cumulative_explained_variance,\n",
    "                     'Number of Components':[c for c in range(len(cumulative_explained_variance))]})\n",
    "\n",
    "fig,ax = plt.subplots(figsize =(12,8))\n",
    "\n",
    "area.plot.area(x='Number of Components',\n",
    "               y='Cumulative Variance',\n",
    "               legend=False,\n",
    "               color='dodgerblue',\n",
    "               ax=ax)\n",
    "\n",
    "plt.ylabel('Cumulative Variance')\n",
    "plt.title('Cumulative Variance of PCA Components')"
   ]
  },
  {
   "cell_type": "markdown",
   "id": "hindu-kruger",
   "metadata": {},
   "source": [
    "## PCA n component optimization"
   ]
  },
  {
   "cell_type": "code",
   "execution_count": 93,
   "id": "distributed-indie",
   "metadata": {},
   "outputs": [
    {
     "name": "stdout",
     "output_type": "stream",
     "text": [
      "Principle components:\n",
      "\t 10\n",
      "\n",
      "Accuracy:\n",
      "\t0.650583031765179\n",
      "Precision:\n",
      "\t0.16151401329095638\n",
      "Recall:\n",
      "\t0.49338040600176525\n",
      "\n",
      "Principle components:\n",
      "\t 20\n",
      "\n",
      "Accuracy:\n",
      "\t0.6284680337756333\n",
      "Precision:\n",
      "\t0.1548612981416644\n",
      "Recall:\n",
      "\t0.5075022065313327\n",
      "\n",
      "Principle components:\n",
      "\t 30\n",
      "\n",
      "Accuracy:\n",
      "\t0.6267591475673502\n",
      "Precision:\n",
      "\t0.1567323044172432\n",
      "Recall:\n",
      "\t0.5198587819947044\n",
      "\n",
      "Principle components:\n",
      "\t 40\n",
      "\n",
      "Accuracy:\n",
      "\t0.6241455568958585\n",
      "Precision:\n",
      "\t0.1576458223857068\n",
      "Recall:\n",
      "\t0.529567519858782\n",
      "\n",
      "Principle components:\n",
      "\t 50\n",
      "\n",
      "Accuracy:\n",
      "\t0.6209288299155609\n",
      "Precision:\n",
      "\t0.15651041666666668\n",
      "Recall:\n",
      "\t0.53045013239188\n",
      "\n",
      "Principle components:\n",
      "\t 60\n",
      "\n",
      "Accuracy:\n",
      "\t0.6209288299155609\n",
      "Precision:\n",
      "\t0.15453116815086432\n",
      "Recall:\n",
      "\t0.5207413945278023\n",
      "\n",
      "Principle components:\n",
      "\t 70\n",
      "\n",
      "Accuracy:\n",
      "\t0.6227382388419783\n",
      "Precision:\n",
      "\t0.15398837823560485\n",
      "Recall:\n",
      "\t0.5145631067961165\n",
      "\n",
      "Principle components:\n",
      "\t 80\n",
      "\n",
      "Accuracy:\n",
      "\t0.6225371934057097\n",
      "Precision:\n",
      "\t0.1551814834297738\n",
      "Recall:\n",
      "\t0.5207413945278023\n",
      "\n",
      "Principle components:\n",
      "\t 90\n",
      "\n",
      "Accuracy:\n",
      "\t0.6373140329714515\n",
      "Precision:\n",
      "\t0.16381418092909536\n",
      "Recall:\n",
      "\t0.5322153574580759\n",
      "\n",
      "Principle components:\n",
      "\t 100\n",
      "\n",
      "Accuracy:\n",
      "\t0.6365098512263772\n",
      "Precision:\n",
      "\t0.16400541271989175\n",
      "Recall:\n",
      "\t0.5348631950573698\n",
      "\n",
      "Principle components:\n",
      "\t 110\n",
      "\n",
      "Accuracy:\n",
      "\t0.6353035786087656\n",
      "Precision:\n",
      "\t0.1632928475033738\n",
      "Recall:\n",
      "\t0.5339805825242718\n",
      "\n",
      "Principle components:\n",
      "\t 120\n",
      "\n",
      "Accuracy:\n",
      "\t0.6424406915963008\n",
      "Precision:\n",
      "\t0.16611570247933885\n",
      "Recall:\n",
      "\t0.5322153574580759\n",
      "\n",
      "Principle components:\n",
      "\t 130\n",
      "\n",
      "Accuracy:\n",
      "\t0.6417370325693607\n",
      "Precision:\n",
      "\t0.1654280209193504\n",
      "Recall:\n",
      "\t0.53045013239188\n",
      "\n",
      "Principle components:\n",
      "\t 140\n",
      "\n",
      "Accuracy:\n",
      "\t0.6399276236429433\n",
      "Precision:\n",
      "\t0.16734582993751698\n",
      "Recall:\n",
      "\t0.5436893203883495\n",
      "\n",
      "Principle components:\n",
      "\t 150\n"
     ]
    },
    {
     "name": "stderr",
     "output_type": "stream",
     "text": [
      "/Users/Bova/anaconda3/lib/python3.7/site-packages/sklearn/linear_model/_logistic.py:765: ConvergenceWarning: lbfgs failed to converge (status=1):\n",
      "STOP: TOTAL NO. of ITERATIONS REACHED LIMIT.\n",
      "\n",
      "Increase the number of iterations (max_iter) or scale the data as shown in:\n",
      "    https://scikit-learn.org/stable/modules/preprocessing.html\n",
      "Please also refer to the documentation for alternative solver options:\n",
      "    https://scikit-learn.org/stable/modules/linear_model.html#logistic-regression\n",
      "  extra_warning_msg=_LOGISTIC_SOLVER_CONVERGENCE_MSG)\n"
     ]
    },
    {
     "name": "stdout",
     "output_type": "stream",
     "text": [
      "\n",
      "Accuracy:\n",
      "\t0.6414354644149578\n",
      "Precision:\n",
      "\t0.16929347826086957\n",
      "Recall:\n",
      "\t0.5498676081200353\n",
      "\n",
      "Principle components:\n",
      "\t 160\n"
     ]
    },
    {
     "name": "stderr",
     "output_type": "stream",
     "text": [
      "/Users/Bova/anaconda3/lib/python3.7/site-packages/sklearn/linear_model/_logistic.py:765: ConvergenceWarning: lbfgs failed to converge (status=1):\n",
      "STOP: TOTAL NO. of ITERATIONS REACHED LIMIT.\n",
      "\n",
      "Increase the number of iterations (max_iter) or scale the data as shown in:\n",
      "    https://scikit-learn.org/stable/modules/preprocessing.html\n",
      "Please also refer to the documentation for alternative solver options:\n",
      "    https://scikit-learn.org/stable/modules/linear_model.html#logistic-regression\n",
      "  extra_warning_msg=_LOGISTIC_SOLVER_CONVERGENCE_MSG)\n"
     ]
    },
    {
     "name": "stdout",
     "output_type": "stream",
     "text": [
      "\n",
      "Accuracy:\n",
      "\t0.6392239646160032\n",
      "Precision:\n",
      "\t0.16684753119913184\n",
      "Recall:\n",
      "\t0.5428067078552515\n",
      "\n",
      "Principle components:\n",
      "\t 170\n"
     ]
    },
    {
     "name": "stderr",
     "output_type": "stream",
     "text": [
      "/Users/Bova/anaconda3/lib/python3.7/site-packages/sklearn/linear_model/_logistic.py:765: ConvergenceWarning: lbfgs failed to converge (status=1):\n",
      "STOP: TOTAL NO. of ITERATIONS REACHED LIMIT.\n",
      "\n",
      "Increase the number of iterations (max_iter) or scale the data as shown in:\n",
      "    https://scikit-learn.org/stable/modules/preprocessing.html\n",
      "Please also refer to the documentation for alternative solver options:\n",
      "    https://scikit-learn.org/stable/modules/linear_model.html#logistic-regression\n",
      "  extra_warning_msg=_LOGISTIC_SOLVER_CONVERGENCE_MSG)\n"
     ]
    },
    {
     "name": "stdout",
     "output_type": "stream",
     "text": [
      "\n",
      "Accuracy:\n",
      "\t0.6362082830719743\n",
      "Precision:\n",
      "\t0.16711301553294056\n",
      "Recall:\n",
      "\t0.5507502206531333\n",
      "\n",
      "Principle components:\n",
      "\t 180\n"
     ]
    },
    {
     "name": "stderr",
     "output_type": "stream",
     "text": [
      "/Users/Bova/anaconda3/lib/python3.7/site-packages/sklearn/linear_model/_logistic.py:765: ConvergenceWarning: lbfgs failed to converge (status=1):\n",
      "STOP: TOTAL NO. of ITERATIONS REACHED LIMIT.\n",
      "\n",
      "Increase the number of iterations (max_iter) or scale the data as shown in:\n",
      "    https://scikit-learn.org/stable/modules/preprocessing.html\n",
      "Please also refer to the documentation for alternative solver options:\n",
      "    https://scikit-learn.org/stable/modules/linear_model.html#logistic-regression\n",
      "  extra_warning_msg=_LOGISTIC_SOLVER_CONVERGENCE_MSG)\n"
     ]
    },
    {
     "name": "stdout",
     "output_type": "stream",
     "text": [
      "\n",
      "Accuracy:\n",
      "\t0.6369119420989143\n",
      "Precision:\n",
      "\t0.1643650148930409\n",
      "Recall:\n",
      "\t0.5357458075904677\n",
      "\n",
      "Principle components:\n",
      "\t 190\n"
     ]
    },
    {
     "name": "stderr",
     "output_type": "stream",
     "text": [
      "/Users/Bova/anaconda3/lib/python3.7/site-packages/sklearn/linear_model/_logistic.py:765: ConvergenceWarning: lbfgs failed to converge (status=1):\n",
      "STOP: TOTAL NO. of ITERATIONS REACHED LIMIT.\n",
      "\n",
      "Increase the number of iterations (max_iter) or scale the data as shown in:\n",
      "    https://scikit-learn.org/stable/modules/preprocessing.html\n",
      "Please also refer to the documentation for alternative solver options:\n",
      "    https://scikit-learn.org/stable/modules/linear_model.html#logistic-regression\n",
      "  extra_warning_msg=_LOGISTIC_SOLVER_CONVERGENCE_MSG)\n"
     ]
    },
    {
     "name": "stdout",
     "output_type": "stream",
     "text": [
      "\n",
      "Accuracy:\n",
      "\t0.63681141938078\n",
      "Precision:\n",
      "\t0.16468361276365603\n",
      "Recall:\n",
      "\t0.5375110326566638\n",
      "\n",
      "Principle components:\n",
      "\t 200\n"
     ]
    },
    {
     "name": "stderr",
     "output_type": "stream",
     "text": [
      "/Users/Bova/anaconda3/lib/python3.7/site-packages/sklearn/linear_model/_logistic.py:765: ConvergenceWarning: lbfgs failed to converge (status=1):\n",
      "STOP: TOTAL NO. of ITERATIONS REACHED LIMIT.\n",
      "\n",
      "Increase the number of iterations (max_iter) or scale the data as shown in:\n",
      "    https://scikit-learn.org/stable/modules/preprocessing.html\n",
      "Please also refer to the documentation for alternative solver options:\n",
      "    https://scikit-learn.org/stable/modules/linear_model.html#logistic-regression\n",
      "  extra_warning_msg=_LOGISTIC_SOLVER_CONVERGENCE_MSG)\n"
     ]
    },
    {
     "name": "stdout",
     "output_type": "stream",
     "text": [
      "\n",
      "Accuracy:\n",
      "\t0.6363088057901085\n",
      "Precision:\n",
      "\t0.16464237516869096\n",
      "Recall:\n",
      "\t0.5383936451897617\n",
      "\n",
      "Principle components:\n",
      "\t 210\n"
     ]
    },
    {
     "name": "stderr",
     "output_type": "stream",
     "text": [
      "/Users/Bova/anaconda3/lib/python3.7/site-packages/sklearn/linear_model/_logistic.py:765: ConvergenceWarning: lbfgs failed to converge (status=1):\n",
      "STOP: TOTAL NO. of ITERATIONS REACHED LIMIT.\n",
      "\n",
      "Increase the number of iterations (max_iter) or scale the data as shown in:\n",
      "    https://scikit-learn.org/stable/modules/preprocessing.html\n",
      "Please also refer to the documentation for alternative solver options:\n",
      "    https://scikit-learn.org/stable/modules/linear_model.html#logistic-regression\n",
      "  extra_warning_msg=_LOGISTIC_SOLVER_CONVERGENCE_MSG)\n"
     ]
    },
    {
     "name": "stdout",
     "output_type": "stream",
     "text": [
      "\n",
      "Accuracy:\n",
      "\t0.6342983514274226\n",
      "Precision:\n",
      "\t0.16267169404793966\n",
      "Recall:\n",
      "\t0.5330979699911739\n",
      "\n",
      "Principle components:\n",
      "\t 220\n"
     ]
    },
    {
     "name": "stderr",
     "output_type": "stream",
     "text": [
      "/Users/Bova/anaconda3/lib/python3.7/site-packages/sklearn/linear_model/_logistic.py:765: ConvergenceWarning: lbfgs failed to converge (status=1):\n",
      "STOP: TOTAL NO. of ITERATIONS REACHED LIMIT.\n",
      "\n",
      "Increase the number of iterations (max_iter) or scale the data as shown in:\n",
      "    https://scikit-learn.org/stable/modules/preprocessing.html\n",
      "Please also refer to the documentation for alternative solver options:\n",
      "    https://scikit-learn.org/stable/modules/linear_model.html#logistic-regression\n",
      "  extra_warning_msg=_LOGISTIC_SOLVER_CONVERGENCE_MSG)\n"
     ]
    },
    {
     "name": "stdout",
     "output_type": "stream",
     "text": [
      "\n",
      "Accuracy:\n",
      "\t0.6337957378367511\n",
      "Precision:\n",
      "\t0.16281569048898442\n",
      "Recall:\n",
      "\t0.5348631950573698\n",
      "\n",
      "Principle components:\n",
      "\t 230\n"
     ]
    },
    {
     "name": "stderr",
     "output_type": "stream",
     "text": [
      "/Users/Bova/anaconda3/lib/python3.7/site-packages/sklearn/linear_model/_logistic.py:765: ConvergenceWarning: lbfgs failed to converge (status=1):\n",
      "STOP: TOTAL NO. of ITERATIONS REACHED LIMIT.\n",
      "\n",
      "Increase the number of iterations (max_iter) or scale the data as shown in:\n",
      "    https://scikit-learn.org/stable/modules/preprocessing.html\n",
      "Please also refer to the documentation for alternative solver options:\n",
      "    https://scikit-learn.org/stable/modules/linear_model.html#logistic-regression\n",
      "  extra_warning_msg=_LOGISTIC_SOLVER_CONVERGENCE_MSG)\n"
     ]
    },
    {
     "name": "stdout",
     "output_type": "stream",
     "text": [
      "\n",
      "Accuracy:\n",
      "\t0.6347004422999598\n",
      "Precision:\n",
      "\t0.16357277374226525\n",
      "Recall:\n",
      "\t0.5366284201235657\n",
      "\n",
      "Principle components:\n",
      "\t 240\n"
     ]
    },
    {
     "name": "stderr",
     "output_type": "stream",
     "text": [
      "/Users/Bova/anaconda3/lib/python3.7/site-packages/sklearn/linear_model/_logistic.py:765: ConvergenceWarning: lbfgs failed to converge (status=1):\n",
      "STOP: TOTAL NO. of ITERATIONS REACHED LIMIT.\n",
      "\n",
      "Increase the number of iterations (max_iter) or scale the data as shown in:\n",
      "    https://scikit-learn.org/stable/modules/preprocessing.html\n",
      "Please also refer to the documentation for alternative solver options:\n",
      "    https://scikit-learn.org/stable/modules/linear_model.html#logistic-regression\n",
      "  extra_warning_msg=_LOGISTIC_SOLVER_CONVERGENCE_MSG)\n"
     ]
    },
    {
     "name": "stdout",
     "output_type": "stream",
     "text": [
      "\n",
      "Accuracy:\n",
      "\t0.6338962605548853\n",
      "Precision:\n",
      "\t0.1634022001609874\n",
      "Recall:\n",
      "\t0.5375110326566638\n",
      "\n",
      "Principle components:\n",
      "\t 250\n"
     ]
    },
    {
     "name": "stderr",
     "output_type": "stream",
     "text": [
      "/Users/Bova/anaconda3/lib/python3.7/site-packages/sklearn/linear_model/_logistic.py:765: ConvergenceWarning: lbfgs failed to converge (status=1):\n",
      "STOP: TOTAL NO. of ITERATIONS REACHED LIMIT.\n",
      "\n",
      "Increase the number of iterations (max_iter) or scale the data as shown in:\n",
      "    https://scikit-learn.org/stable/modules/preprocessing.html\n",
      "Please also refer to the documentation for alternative solver options:\n",
      "    https://scikit-learn.org/stable/modules/linear_model.html#logistic-regression\n",
      "  extra_warning_msg=_LOGISTIC_SOLVER_CONVERGENCE_MSG)\n"
     ]
    },
    {
     "name": "stdout",
     "output_type": "stream",
     "text": [
      "\n",
      "Accuracy:\n",
      "\t0.6334941696823482\n",
      "Precision:\n",
      "\t0.16322701688555347\n",
      "Recall:\n",
      "\t0.5375110326566638\n",
      "\n",
      "Principle components:\n",
      "\t 260\n"
     ]
    },
    {
     "name": "stderr",
     "output_type": "stream",
     "text": [
      "/Users/Bova/anaconda3/lib/python3.7/site-packages/sklearn/linear_model/_logistic.py:765: ConvergenceWarning: lbfgs failed to converge (status=1):\n",
      "STOP: TOTAL NO. of ITERATIONS REACHED LIMIT.\n",
      "\n",
      "Increase the number of iterations (max_iter) or scale the data as shown in:\n",
      "    https://scikit-learn.org/stable/modules/preprocessing.html\n",
      "Please also refer to the documentation for alternative solver options:\n",
      "    https://scikit-learn.org/stable/modules/linear_model.html#logistic-regression\n",
      "  extra_warning_msg=_LOGISTIC_SOLVER_CONVERGENCE_MSG)\n"
     ]
    },
    {
     "name": "stdout",
     "output_type": "stream",
     "text": [
      "\n",
      "Accuracy:\n",
      "\t0.6347004422999598\n",
      "Precision:\n",
      "\t0.16375369723043828\n",
      "Recall:\n",
      "\t0.5375110326566638\n",
      "\n",
      "Principle components:\n",
      "\t 270\n"
     ]
    },
    {
     "name": "stderr",
     "output_type": "stream",
     "text": [
      "/Users/Bova/anaconda3/lib/python3.7/site-packages/sklearn/linear_model/_logistic.py:765: ConvergenceWarning: lbfgs failed to converge (status=1):\n",
      "STOP: TOTAL NO. of ITERATIONS REACHED LIMIT.\n",
      "\n",
      "Increase the number of iterations (max_iter) or scale the data as shown in:\n",
      "    https://scikit-learn.org/stable/modules/preprocessing.html\n",
      "Please also refer to the documentation for alternative solver options:\n",
      "    https://scikit-learn.org/stable/modules/linear_model.html#logistic-regression\n",
      "  extra_warning_msg=_LOGISTIC_SOLVER_CONVERGENCE_MSG)\n"
     ]
    },
    {
     "name": "stdout",
     "output_type": "stream",
     "text": [
      "\n",
      "Accuracy:\n",
      "\t0.6362082830719743\n",
      "Precision:\n",
      "\t0.1645979492714517\n",
      "Recall:\n",
      "\t0.5383936451897617\n",
      "\n",
      "Principle components:\n",
      "\t 280\n"
     ]
    },
    {
     "name": "stderr",
     "output_type": "stream",
     "text": [
      "/Users/Bova/anaconda3/lib/python3.7/site-packages/sklearn/linear_model/_logistic.py:765: ConvergenceWarning: lbfgs failed to converge (status=1):\n",
      "STOP: TOTAL NO. of ITERATIONS REACHED LIMIT.\n",
      "\n",
      "Increase the number of iterations (max_iter) or scale the data as shown in:\n",
      "    https://scikit-learn.org/stable/modules/preprocessing.html\n",
      "Please also refer to the documentation for alternative solver options:\n",
      "    https://scikit-learn.org/stable/modules/linear_model.html#logistic-regression\n",
      "  extra_warning_msg=_LOGISTIC_SOLVER_CONVERGENCE_MSG)\n"
     ]
    },
    {
     "name": "stdout",
     "output_type": "stream",
     "text": [
      "\n",
      "Accuracy:\n",
      "\t0.6364093285082428\n",
      "Precision:\n",
      "\t0.16450567260940033\n",
      "Recall:\n",
      "\t0.5375110326566638\n",
      "\n",
      "Principle components:\n",
      "\t 290\n",
      "\n",
      "Accuracy:\n",
      "\t0.63610776035384\n",
      "Precision:\n",
      "\t0.16455354734286484\n",
      "Recall:\n",
      "\t0.5383936451897617\n",
      "\n"
     ]
    },
    {
     "name": "stderr",
     "output_type": "stream",
     "text": [
      "/Users/Bova/anaconda3/lib/python3.7/site-packages/sklearn/linear_model/_logistic.py:765: ConvergenceWarning: lbfgs failed to converge (status=1):\n",
      "STOP: TOTAL NO. of ITERATIONS REACHED LIMIT.\n",
      "\n",
      "Increase the number of iterations (max_iter) or scale the data as shown in:\n",
      "    https://scikit-learn.org/stable/modules/preprocessing.html\n",
      "Please also refer to the documentation for alternative solver options:\n",
      "    https://scikit-learn.org/stable/modules/linear_model.html#logistic-regression\n",
      "  extra_warning_msg=_LOGISTIC_SOLVER_CONVERGENCE_MSG)\n"
     ]
    }
   ],
   "source": [
    "results = pd.DataFrame(columns = ['accuracy','precision','recall'],\n",
    "                       index   = [n for n in range(10,291,10)])\n",
    "\n",
    "for n in range(10,291,10):\n",
    "    \n",
    "    print('Principle components:\\n\\t',n)\n",
    "    pca = PCA(n_components=n,\n",
    "              random_state=1984)\n",
    "    X_train_pca    = pca.fit_transform(X_train)\n",
    "    X_validate_pca = pca.transform(X_validate)\n",
    "    X_test_pca     = pca.transform(X_validate)\n",
    "    \n",
    "    accuracy,precision,recall = print_results(y_validate,\n",
    "                                              LogisticRegression().fit(X_train_pca,y_train).\\\n",
    "                                                                   predict(X_validate_pca),False)\n",
    "    results.loc[n] = [accuracy,precision,recall]\n",
    "        \n",
    "results.to_csv('pca_results.csv')"
   ]
  },
  {
   "cell_type": "code",
   "execution_count": 94,
   "id": "temporal-joseph",
   "metadata": {},
   "outputs": [
    {
     "name": "stdout",
     "output_type": "stream",
     "text": [
      "[0.650583031765179, 10]\n",
      "[0.5383936451897617, 290]\n",
      "[0, 0]\n"
     ]
    }
   ],
   "source": [
    "print(best_accuracy)\n",
    "print(best_precision)\n",
    "print(best_recall)"
   ]
  },
  {
   "cell_type": "code",
   "execution_count": 126,
   "id": "brazilian-lobby",
   "metadata": {},
   "outputs": [
    {
     "data": {
      "text/plain": [
       "Text(0.5, 0, 'n Principle Components')"
      ]
     },
     "execution_count": 126,
     "metadata": {},
     "output_type": "execute_result"
    },
    {
     "data": {
      "image/png": "[encoded data removed]",
      "text/plain": [
       "<Figure size 864x576 with 1 Axes>"
      ]
     },
     "metadata": {},
     "output_type": "display_data"
    }
   ],
   "source": [
    "results.plot(figsize =(12,8),\n",
    "             colormap='Set1',\n",
    "             linewidth=3)\n",
    "plt.title('Forward Principle Components Selection')\n",
    "\n",
    "plt.legend(frameon=False,fontsize='x-large')\n",
    "plt.xlabel('n Principle Components')"
   ]
  },
  {
   "cell_type": "markdown",
   "id": "verified-float",
   "metadata": {},
   "source": [
    "## Best accuracy"
   ]
  },
  {
   "cell_type": "code",
   "execution_count": 118,
   "id": "radical-failing",
   "metadata": {},
   "outputs": [
    {
     "name": "stdout",
     "output_type": "stream",
     "text": [
      "Training:\n",
      "Predicted       not readmitted  readmitted\n",
      "Observed                                  \n",
      "not readmitted           47539       23085\n",
      "readmitted               34196       36428\n",
      "\n",
      "Accuracy:\n",
      "\t0.5944650543724513\n",
      "Precision:\n",
      "\t0.612101557642868\n",
      "Recall:\n",
      "\t0.5158019936565473\n",
      "\n",
      "\n",
      "Validate:\n",
      "Predicted       not readmitted  readmitted\n",
      "Observed                                  \n",
      "not readmitted            5913        2902\n",
      "readmitted                 574         559\n",
      "\n",
      "Accuracy:\n",
      "\t0.650583031765179\n",
      "Precision:\n",
      "\t0.16151401329095638\n",
      "Recall:\n",
      "\t0.49338040600176525\n",
      "\n"
     ]
    },
    {
     "data": {
      "text/plain": [
       "(0.650583031765179, 0.16151401329095638, 0.49338040600176525)"
      ]
     },
     "execution_count": 118,
     "metadata": {},
     "output_type": "execute_result"
    }
   ],
   "source": [
    "pca = PCA(n_components=10,\n",
    "          random_state=1984)\n",
    "X_train_pca       = pca.fit_transform(X_train)\n",
    "X_validate_pca_ac = pca.transform(X_validate)\n",
    "\n",
    "logit              = LogisticRegression()\n",
    "logit_fitted_ac    = logit.fit(X_train_pca,y_train)\n",
    "y_train_predict    = logit_fitted_ac.predict(X_train_pca)\n",
    "y_validate_predict = logit_fitted_ac.predict(X_validate_pca_ac)\n",
    "\n",
    "print('Training:')\n",
    "print_results(y_train,y_train_predict)\n",
    "print('\\nValidate:')\n",
    "print_results(y_validate,y_validate_predict)"
   ]
  },
  {
   "cell_type": "markdown",
   "id": "parallel-fifth",
   "metadata": {},
   "source": [
    "## Best Precision"
   ]
  },
  {
   "cell_type": "code",
   "execution_count": 119,
   "id": "royal-change",
   "metadata": {},
   "outputs": [
    {
     "name": "stderr",
     "output_type": "stream",
     "text": [
      "/Users/Bova/anaconda3/lib/python3.7/site-packages/sklearn/linear_model/_logistic.py:765: ConvergenceWarning: lbfgs failed to converge (status=1):\n",
      "STOP: TOTAL NO. of ITERATIONS REACHED LIMIT.\n",
      "\n",
      "Increase the number of iterations (max_iter) or scale the data as shown in:\n",
      "    https://scikit-learn.org/stable/modules/preprocessing.html\n",
      "Please also refer to the documentation for alternative solver options:\n",
      "    https://scikit-learn.org/stable/modules/linear_model.html#logistic-regression\n",
      "  extra_warning_msg=_LOGISTIC_SOLVER_CONVERGENCE_MSG)\n"
     ]
    },
    {
     "name": "stdout",
     "output_type": "stream",
     "text": [
      "Training:\n",
      "Predicted       not readmitted  readmitted\n",
      "Observed                                  \n",
      "not readmitted           46365       24259\n",
      "readmitted               25362       45262\n",
      "\n",
      "Accuracy:\n",
      "\t0.6486959107385591\n",
      "Precision:\n",
      "\t0.6510550768832439\n",
      "Recall:\n",
      "\t0.6408869506116901\n",
      "\n",
      "\n",
      "Validate:\n",
      "Predicted       not readmitted  readmitted\n",
      "Observed                                  \n",
      "not readmitted            5718        3097\n",
      "readmitted                 523         610\n",
      "\n",
      "Accuracy:\n",
      "\t0.63610776035384\n",
      "Precision:\n",
      "\t0.16455354734286484\n",
      "Recall:\n",
      "\t0.5383936451897617\n",
      "\n"
     ]
    },
    {
     "data": {
      "text/plain": [
       "(0.63610776035384, 0.16455354734286484, 0.5383936451897617)"
      ]
     },
     "execution_count": 119,
     "metadata": {},
     "output_type": "execute_result"
    }
   ],
   "source": [
    "pca = PCA(n_components=290,\n",
    "          random_state=1984)\n",
    "X_train_pca       = pca.fit_transform(X_train)\n",
    "X_validate_pca_pr = pca.transform(X_validate)\n",
    "\n",
    "logit              = LogisticRegression()\n",
    "logit_fitted_pr    = logit.fit(X_train_pca,y_train)\n",
    "y_train_predict    = logit_fitted_pr.predict(X_train_pca)\n",
    "y_validate_predict = logit_fitted_pr.predict(X_validate_pca_pr)\n",
    "\n",
    "print('Training:')\n",
    "print_results(y_train,y_train_predict)\n",
    "print('\\nValidate:')\n",
    "print_results(y_validate,y_validate_predict)"
   ]
  },
  {
   "cell_type": "markdown",
   "id": "controversial-conservative",
   "metadata": {},
   "source": [
    "## Best Recall"
   ]
  },
  {
   "cell_type": "code",
   "execution_count": 120,
   "id": "behavioral-prison",
   "metadata": {},
   "outputs": [
    {
     "name": "stderr",
     "output_type": "stream",
     "text": [
      "/Users/Bova/anaconda3/lib/python3.7/site-packages/sklearn/linear_model/_logistic.py:765: ConvergenceWarning: lbfgs failed to converge (status=1):\n",
      "STOP: TOTAL NO. of ITERATIONS REACHED LIMIT.\n",
      "\n",
      "Increase the number of iterations (max_iter) or scale the data as shown in:\n",
      "    https://scikit-learn.org/stable/modules/preprocessing.html\n",
      "Please also refer to the documentation for alternative solver options:\n",
      "    https://scikit-learn.org/stable/modules/linear_model.html#logistic-regression\n",
      "  extra_warning_msg=_LOGISTIC_SOLVER_CONVERGENCE_MSG)\n"
     ]
    },
    {
     "name": "stdout",
     "output_type": "stream",
     "text": [
      "Training:\n",
      "Predicted       not readmitted  readmitted\n",
      "Observed                                  \n",
      "not readmitted           46333       24291\n",
      "readmitted               26309       44315\n",
      "\n",
      "Accuracy:\n",
      "\t0.641764839148165\n",
      "Precision:\n",
      "\t0.6459347578928957\n",
      "Recall:\n",
      "\t0.6274779111916629\n",
      "\n",
      "\n",
      "Validate:\n",
      "Predicted       not readmitted  readmitted\n",
      "Observed                                  \n",
      "not readmitted            5705        3110\n",
      "readmitted                 509         624\n",
      "\n",
      "Accuracy:\n",
      "\t0.6362082830719743\n",
      "Precision:\n",
      "\t0.16711301553294056\n",
      "Recall:\n",
      "\t0.5507502206531333\n",
      "\n"
     ]
    },
    {
     "data": {
      "text/plain": [
       "(0.6362082830719743, 0.16711301553294056, 0.5507502206531333)"
      ]
     },
     "execution_count": 120,
     "metadata": {},
     "output_type": "execute_result"
    }
   ],
   "source": [
    "pca = PCA(n_components=170,\n",
    "          random_state=1984)\n",
    "X_train_pca       = pca.fit_transform(X_train)\n",
    "X_validate_pca_rc = pca.transform(X_validate)\n",
    "\n",
    "logit              = LogisticRegression()\n",
    "logit_fitted_rc    = logit.fit(X_train_pca,y_train)\n",
    "y_train_predict    = logit_fitted_rc.predict(X_train_pca)\n",
    "y_validate_predict = logit_fitted_rc.predict(X_validate_pca_rc)\n",
    "\n",
    "print('Training:')\n",
    "print_results(y_train,y_train_predict)\n",
    "print('\\nValidate:')\n",
    "print_results(y_validate,y_validate_predict)"
   ]
  },
  {
   "cell_type": "markdown",
   "id": "acquired-polyester",
   "metadata": {},
   "source": [
    "## ROC Curves"
   ]
  },
  {
   "cell_type": "code",
   "execution_count": 125,
   "id": "mobile-donna",
   "metadata": {},
   "outputs": [
    {
     "data": {
      "text/plain": [
       "Text(0.5, 1.0, 'ROC Curve (PCA)')"
      ]
     },
     "execution_count": 125,
     "metadata": {},
     "output_type": "execute_result"
    },
    {
     "data": {
      "image/png": "[encoded data removed]",
      "text/plain": [
       "<Figure size 864x576 with 1 Axes>"
      ]
     },
     "metadata": {},
     "output_type": "display_data"
    }
   ],
   "source": [
    "ac_auc = m.roc_auc_score(y_validate, logit_fitted_ac.predict_proba(X_validate_pca_ac)[:,1])\n",
    "pr_auc = m.roc_auc_score(y_validate, logit_fitted_pr.predict_proba(X_validate_pca_pr)[:,1])\n",
    "rc_auc = m.roc_auc_score(y_validate, logit_fitted_rc.predict_proba(X_validate_pca_rc)[:,1])\n",
    "\n",
    "fig,ax = plt.subplots(figsize =(12,8))\n",
    "m.plot_roc_curve(logit_fitted_ac, \n",
    "                 X_validate_pca_ac, \n",
    "                 y_validate,\n",
    "                 label=f'Best Accuracy: AUC: {round(ac_auc,2)}',\n",
    "                 lw=4,\n",
    "                 color='cornflowerblue',\n",
    "                 ax=ax)\n",
    "\n",
    "m.plot_roc_curve(logit_fitted_pr, \n",
    "                 X_validate_pca_pr, \n",
    "                 y_validate,\n",
    "                 label=f'Best Precision: AUC: {round(pr_auc,2)}',\n",
    "                 lw=4,\n",
    "                 color='red',\n",
    "                 ax=ax)\n",
    "\n",
    "m.plot_roc_curve(logit_fitted_rc, \n",
    "                 X_validate_pca_rc, \n",
    "                 y_validate,\n",
    "                 label=f'Best Recall: AUC: {round(rc_auc,2)}',\n",
    "                 lw=4,\n",
    "                 color='orchid',\n",
    "                 ax=ax)\n",
    "\n",
    "plt.plot([0, 1], \n",
    "         [0, 1], \n",
    "         color='white', \n",
    "         lw=2, \n",
    "         linestyle='--')\n",
    "plt.legend(frameon=False,fontsize='x-large')\n",
    "plt.title('ROC Curve (PCA)')"
   ]
  },
  {
   "cell_type": "code",
   "execution_count": null,
   "id": "afraid-reviewer",
   "metadata": {},
   "outputs": [],
   "source": []
  }
 ],
 "metadata": {
  "kernelspec": {
   "display_name": "Python 3",
   "language": "python",
   "name": "python3"
  },
  "language_info": {
   "codemirror_mode": {
    "name": "ipython",
    "version": 3
   },
   "file_extension": ".py",
   "mimetype": "text/x-python",
   "name": "python",
   "nbconvert_exporter": "python",
   "pygments_lexer": "ipython3",
   "version": "3.7.1"
  }
 },
 "nbformat": 4,
 "nbformat_minor": 5
}
